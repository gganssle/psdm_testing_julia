{
 "cells": [
  {
   "cell_type": "code",
   "execution_count": 1,
   "metadata": {
    "collapsed": true
   },
   "outputs": [],
   "source": [
    "using Seismic, PyPlot"
   ]
  },
  {
   "cell_type": "code",
   "execution_count": 31,
   "metadata": {
    "collapsed": false
   },
   "outputs": [],
   "source": [
    "# read velocity files\n",
    "vp,h_v = SeisRead(\"../../dat/vel\");\n",
    "vp = reshape(vp,(convert(Int64,ex.n1),convert(Int64,ex.n2),convert(Int64,ex.n3)));"
   ]
  },
  {
   "cell_type": "code",
   "execution_count": 3,
   "metadata": {
    "collapsed": true
   },
   "outputs": [],
   "source": [
    "# read a data files\n",
    "uz,h_d = SeisRead(\"../../dat/image\");\n",
    "\n",
    "# read a wavelet\n",
    "w, h_w = SeisRead(\"../dat/wav\");"
   ]
  },
  {
   "cell_type": "code",
   "execution_count": 39,
   "metadata": {
    "collapsed": false
   },
   "outputs": [],
   "source": [
    "# compute reflector normals \n",
    "coh,pp,res = SeisPWD(vp, Dict([(\"w1\",20), (\"w2\",20)]));\n",
    "\n",
    "ex = Seismic.Extent(convert(Int32,h_v[1].n1), convert(Int32,size(vp)[2]), 1, \n",
    "            1, 1, 0, 0, 0, 0, 0, convert(Float32,.004), convert(Float32,110), \n",
    "            1, 1, 1, \"Depth\", \"sx\", \"sy\", \"\", \"\", \"\", \"\", \"\", \n",
    "            \"\", \"\", \"\")\n",
    "\n",
    "SeisWrite(\"../../dat/dipx\",pp,h_v,ex);\n",
    "SeisWrite(\"../../dat/dipy\",pp,h_v,ex);"
   ]
  },
  {
   "cell_type": "code",
   "execution_count": null,
   "metadata": {
    "collapsed": true
   },
   "outputs": [],
   "source": [
    "# compute angles wrt reflector normal\n",
    "param = [\"vel\"=>\"vp\", \"wav\"=>\"wav\", \n",
    "    \"dip_flag\"=>\"y\",\"dipx\"=>\"dipx\",\"dipy\"=>\"dipy\",\n",
    "    \"sz\"=>10,\"fmin\"=>20., \"fmax\"=>30.,\n",
    "    \"nhx\"=>827, \"ohx\"=>-3304, \"dhx\"=>8,\n",
    "    \"nhy\"=>1, \"ohy\"=>0, \"dhy\"=>8,\n",
    "    \"omp\"=>8,\"verbose\"=>\"y\"];\n",
    "param[\"sx\"] = [5100.0:100.0:5100.0];\n",
    "param[\"sy\"] = [5100.0:100.0:5100.0]*0;\n",
    "ComputeAngles(\"angx\",\"angy\",param);"
   ]
  },
  {
   "cell_type": "code",
   "execution_count": null,
   "metadata": {
    "collapsed": true
   },
   "outputs": [],
   "source": [
    "param = [\"adj\"=>\"y\",\n",
    "    \"vel\"=>\"../prep/vp\", \"wav\"=>\"../prep/wav\",\n",
    "    \"angx\"=>\"../prep/angx\",\"angy\"=>\"../prep/angy\",\n",
    "    \"pade_flag\"=>\"y\",\n",
    "    \"sz\"=>10, \"gz\"=>550,\n",
    "    \"fmin\"=>1., \"fmax\"=>50.,\n",
    "    \"padt\"=>2, \"padx\"=>1,\n",
    "    \"nangx\"=>71, \"oangx\"=>-70, \"dangx\"=>2,\n",
    "    \"nangy\"=>1, \"oangy\"=>0, \"dangy\"=>2,\n",
    "    \"nhx\"=>827, \"ohx\"=>-3304, \"dhx\"=>8,\n",
    "    \"nhy\"=>1, \"ohy\"=>0, \"dhy\"=>8,\n",
    "    \"omp\"=>8,\"verbose\"=>\"y\"];\n",
    "param[\"sx\"] = [5100.0:100.0:5100.0];\n",
    "param[\"sy\"] = [5100.0:100.0:5100.0]*0;\n",
    "ShotProfileWEM(\"../prep/uz_1shot\",\"mpp\",param);"
   ]
  },
  {
   "cell_type": "code",
   "execution_count": null,
   "metadata": {
    "collapsed": true
   },
   "outputs": [],
   "source": []
  }
 ],
 "metadata": {
  "kernelspec": {
   "display_name": "Julia 0.4.5",
   "language": "julia",
   "name": "julia-0.4"
  },
  "language_info": {
   "file_extension": ".jl",
   "mimetype": "application/julia",
   "name": "julia",
   "version": "0.4.5"
  }
 },
 "nbformat": 4,
 "nbformat_minor": 0
}
