{
 "cells": [
  {
   "cell_type": "code",
   "execution_count": 1,
   "metadata": {
    "collapsed": true
   },
   "outputs": [],
   "source": [
    "using Seismic, PyPlot"
   ]
  },
  {
   "cell_type": "code",
   "execution_count": 2,
   "metadata": {
    "collapsed": false
   },
   "outputs": [],
   "source": [
    "# read velocity files\n",
    "vp, h_v, ex = SeisRead(\"../../dat/vel\");\n",
    "vp = reshape(vp,(convert(Int64,ex.n1),convert(Int64,ex.n2),convert(Int64,ex.n3)));"
   ]
  },
  {
   "cell_type": "code",
   "execution_count": 3,
   "metadata": {
    "collapsed": true
   },
   "outputs": [],
   "source": [
    "# read a data files\n",
    "uz,h_d = SeisRead(\"../../dat/image\");\n",
    "\n",
    "# read a wavelet\n",
    "w, h_w = SeisRead(\"../dat/wav\");"
   ]
  },
  {
   "cell_type": "code",
   "execution_count": 7,
   "metadata": {
    "collapsed": false
   },
   "outputs": [],
   "source": [
    "# compute reflector normals \n",
    "coh,pp,res = SeisPWD(vp, Dict([(\"w1\",20), (\"w2\",20)]));\n",
    "\n",
    "ex = Seismic.Extent(convert(Int32,h_v[1].n1), convert(Int32,size(vp)[2]), 1, \n",
    "            1, 1, 0, 0, 0, 0, 0, convert(Float32,.004), convert(Float32,110), \n",
    "            1, 1, 1, \"Depth\", \"sx\", \"sy\", \"\", \"\", \"\", \"\", \"\", \n",
    "            \"\", \"\", \"\")\n",
    "\n",
    "SeisWrite(\"../../dat/dipx\",pp,h_v,ex);\n",
    "SeisWrite(\"../../dat/dipy\",pp,h_v,ex);"
   ]
  },
  {
   "cell_type": "code",
   "execution_count": null,
   "metadata": {
    "collapsed": true
   },
   "outputs": [],
   "source": [
    "ComputeAngles(angx::ASCIIString,angy::ASCIIString,dip_flag=false,vel=\"vel\",wav=\"wav\",\n",
    "sz=0.,nhx=100,ohx=0,dhx=10,nhy=1,ohy=0,dhy=10,pade_flag=false,fmin=0,fmax=80,padt=2,\n",
    "padx=2,verbose=false,sx=[0],sy=[0])"
   ]
  },
  {
   "cell_type": "code",
   "execution_count": null,
   "metadata": {
    "collapsed": false
   },
   "outputs": [
    {
     "name": "stderr",
     "output_type": "stream",
     "text": [
      "WARNING: int(x) is deprecated, use Int(x) instead.\n",
      " in depwarn at deprecated.jl:73\n",
      " in int at deprecated.jl:50\n",
      " in ComputeAngles at /home/gram/.julia/v0.4/Seismic/src/Imaging/ComputeAngles.jl:65\n",
      " in include_string at loading.jl:282\n",
      " in execute_request_0x535c5df2 at /home/gram/.julia/v0.4/IJulia/src/execute_request.jl:182\n",
      " in eventloop at /home/gram/.julia/v0.4/IJulia/src/IJulia.jl:142\n",
      " in anonymous at task.jl:447\n",
      "while loading In[4], in expression starting on line 2\n",
      "WARNING: int(x) is deprecated, use Int(x) instead.\n",
      " in depwarn at deprecated.jl:73\n",
      " in int at deprecated.jl:50\n",
      " in ComputeAngles at /home/gram/.julia/v0.4/Seismic/src/Imaging/ComputeAngles.jl:65\n",
      " in include_string at loading.jl:282\n",
      " in execute_request_0x535c5df2 at /home/gram/.julia/v0.4/IJulia/src/execute_request.jl:182\n",
      " in eventloop at /home/gram/.julia/v0.4/IJulia/src/IJulia.jl:142\n",
      " in anonymous at task.jl:447\n",
      "while loading In[4], in expression starting on line 2\n",
      "WARNING: int(x) is deprecated, use Int(x) instead.\n",
      " in depwarn at deprecated.jl:73\n",
      " in int at deprecated.jl:50\n",
      " in ComputeAngles at /home/gram/.julia/v0.4/Seismic/src/Imaging/ComputeAngles.jl:66\n",
      " in include_string at loading.jl:282\n",
      " in execute_request_0x535c5df2 at /home/gram/.julia/v0.4/IJulia/src/execute_request.jl:182\n",
      " in eventloop at /home/gram/.julia/v0.4/IJulia/src/IJulia.jl:142\n",
      " in anonymous at task.jl:447\n",
      "while loading In[4], in expression starting on line 2\n",
      "WARNING: int(x) is deprecated, use Int(x) instead.\n",
      " in depwarn at deprecated.jl:73\n",
      " in int at deprecated.jl:50\n",
      " in ComputeAngles at /home/gram/.julia/v0.4/Seismic/src/Imaging/ComputeAngles.jl:66\n",
      " in include_string at loading.jl:282\n",
      " in execute_request_0x535c5df2 at /home/gram/.julia/v0.4/IJulia/src/execute_request.jl:182\n",
      " in eventloop at /home/gram/.julia/v0.4/IJulia/src/IJulia.jl:142\n",
      " in anonymous at task.jl:447\n",
      "while loading In[4], in expression starting on line 2\n"
     ]
    }
   ],
   "source": [
    "# compute angles wrt reflector normal\n",
    "ComputeAngles(\"../../dat/angx\", \"../../dat/angy\"; dip_flag=false, vel=\"../../dat/vel\", wav=\"../../dat/wav\",\n",
    "dipx_name=\"../../dat/dipx\", dipy_name=\"../../dat/dipy\",\n",
    "nhx=100, ohx=0, dhx=10, nhy=100, ohy=0, dhy=10, fmin=1, fmax=50, padt=2,\n",
    "padx=2, verbose=true, sx=[50], sy=[50]);"
   ]
  },
  {
   "cell_type": "code",
   "execution_count": null,
   "metadata": {
    "collapsed": true
   },
   "outputs": [],
   "source": [
    "param = [\"adj\"=>\"y\",\n",
    "    \"vel\"=>\"../prep/vp\", \"wav\"=>\"../prep/wav\",\n",
    "    \"angx\"=>\"../prep/angx\",\"angy\"=>\"../prep/angy\",\n",
    "    \"pade_flag\"=>\"y\",\n",
    "    \"sz\"=>10, \"gz\"=>550,\n",
    "    \"fmin\"=>1., \"fmax\"=>50.,\n",
    "    \"padt\"=>2, \"padx\"=>1,\n",
    "    \"nangx\"=>71, \"oangx\"=>-70, \"dangx\"=>2,\n",
    "    \"nangy\"=>1, \"oangy\"=>0, \"dangy\"=>2,\n",
    "    \"nhx\"=>827, \"ohx\"=>-3304, \"dhx\"=>8,\n",
    "    \"nhy\"=>1, \"ohy\"=>0, \"dhy\"=>8,\n",
    "    \"omp\"=>8,\"verbose\"=>\"y\"];\n",
    "param[\"sx\"] = [5100.0:100.0:5100.0];\n",
    "param[\"sy\"] = [5100.0:100.0:5100.0]*0;\n",
    "ShotProfileWEM(\"../prep/uz_1shot\",\"mpp\",param);"
   ]
  },
  {
   "cell_type": "code",
   "execution_count": null,
   "metadata": {
    "collapsed": true
   },
   "outputs": [],
   "source": []
  }
 ],
 "metadata": {
  "kernelspec": {
   "display_name": "Julia 0.4.5",
   "language": "julia",
   "name": "julia-0.4"
  },
  "language_info": {
   "file_extension": ".jl",
   "mimetype": "application/julia",
   "name": "julia",
   "version": "0.4.5"
  }
 },
 "nbformat": 4,
 "nbformat_minor": 0
}
