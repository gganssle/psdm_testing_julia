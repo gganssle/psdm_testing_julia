{
 "cells": [
  {
   "cell_type": "code",
   "execution_count": null,
   "metadata": {
    "collapsed": true
   },
   "outputs": [],
   "source": [
    "using Seismic"
   ]
  },
  {
   "cell_type": "code",
   "execution_count": null,
   "metadata": {
    "collapsed": true
   },
   "outputs": [],
   "source": [
    "# read velocity files\n",
    "SegyToSeis(\"/Users/astanton/Downloads/vp_mig.rsf\",\"vp\",\"rsf\");\n",
    "vp,h_v = SeisRead(\"vp\");\n",
    "vp = reshape(vp,nz,nmx,nmy);"
   ]
  },
  {
   "cell_type": "code",
   "execution_count": null,
   "metadata": {
    "collapsed": true
   },
   "outputs": [],
   "source": [
    "# create a wavelet\n",
    "SegyToSeis(\"/Users/astanton/Downloads/wav_resample.rsf\",\"wav\",\"rsf\");\n",
    "w,h_w = SeisRead(\"wav\");\n",
    "# set up headers in wavelet file\n",
    "h_w = Array(Header,1);\n",
    "h_w[1] = Seismic.InitSeisHeader();h_w[1].tracenum = 1;\n",
    "h_w[1].n1 = nt;\n",
    "h_w[1].d1 = dt;\n",
    "SeisWrite(\"wav\",w[:],h_w);"
   ]
  },
  {
   "cell_type": "code",
   "execution_count": null,
   "metadata": {
    "collapsed": true
   },
   "outputs": [],
   "source": [
    "param = [\"adj\"=>\"n\",\n",
    "         \"vel\"=>\"../prep/vp\",\"wav\"=>\"../prep/wav\", \n",
    "         \"pade_flag\"=>\"n\",\n",
    "         \"sz\"=>10, \"gz\"=>550,\n",
    "         \"fmin\"=>0., \"fmax\"=>50.,\n",
    "         \"padt\"=>2, \"padx\"=>2,\n",
    "         \"nang\"=>1, \"oang\"=>0, \"dang\"=>2,\n",
    "         \"naz\"=>1, \"oaz\"=>0, \"daz\"=>2,\n",
    "         \"nhx\"=>827, \"ohx\"=>-3304, \"dhx\"=>8,\n",
    "         \"nhy\"=>1, \"ohy\"=>0, \"dhy\"=>8,\n",
    "         \"omp\"=>8,\"verbose\"=>\"y\"];\n",
    "param[\"sx\"] = [3600.0:100.0:3600.0];\n",
    "param[\"sy\"] = [3600.0:100.0:3600.0]*0;\n",
    "ShotProfileWEM(\"../adj/mpp\",\"uz_fwd\",param);"
   ]
  }
 ],
 "metadata": {
  "kernelspec": {
   "display_name": "Julia 0.4.5",
   "language": "julia",
   "name": "julia-0.4"
  },
  "language_info": {
   "file_extension": ".jl",
   "mimetype": "application/julia",
   "name": "julia",
   "version": "0.4.5"
  }
 },
 "nbformat": 4,
 "nbformat_minor": 0
}
