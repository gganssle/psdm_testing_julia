{
 "cells": [
  {
   "cell_type": "code",
   "execution_count": 1,
   "metadata": {
    "collapsed": true
   },
   "outputs": [],
   "source": [
    "using Seismic, PyPlot"
   ]
  },
  {
   "cell_type": "code",
   "execution_count": null,
   "metadata": {
    "collapsed": true
   },
   "outputs": [],
   "source": [
    "# read velocity files\n",
    "SegyToSeis(\"/Users/astanton/Downloads/vp_mig.rsf\",\"vp\",\"rsf\");\n",
    "vp,h_v = SeisRead(\"vp\");\n",
    "vp = reshape(vp,nz,nmx,nmy);"
   ]
  },
  {
   "cell_type": "code",
   "execution_count": null,
   "metadata": {
    "collapsed": true
   },
   "outputs": [],
   "source": [
    "# read a data files\n",
    "SegyToSeis(\"/Users/astanton/Downloads/dz.rsf\",\"uz\",\"rsf\");\n",
    "uz,h_d = SeisRead(\"uz\");\n",
    "\n",
    "SegyToSeis(\"/Users/astanton/Downloads/wav_resample.rsf\",\"wav\",\"rsf\");\n",
    "w,h_w = SeisRead(\"wav\");\n",
    "# set up headers in wavelet file\n",
    "h_w = Array(Header,1);\n",
    "h_w[1] = Seismic.InitSeisHeader();h_w[1].tracenum = 1;\n",
    "h_w[1].n1 = nt;\n",
    "h_w[1].d1 = dt;\n",
    "SeisWrite(\"wav\",w[:],h_w);"
   ]
  },
  {
   "cell_type": "code",
   "execution_count": null,
   "metadata": {
    "collapsed": true
   },
   "outputs": [],
   "source": [
    "# compute reflector normals \n",
    "vp_raw,h = SeisRead(\"vp_raw\");\n",
    "coh,pp,res = SeisPWD(vp_raw,[\"w1\"=>30,\"w2\"=>30,\"dx\"=>8,\"dz\"=>4]);\n",
    "SeisWrite(\"dipx\",pp,h);\n",
    "SeisWrite(\"dipy\",pp*0,h);"
   ]
  },
  {
   "cell_type": "code",
   "execution_count": null,
   "metadata": {
    "collapsed": true
   },
   "outputs": [],
   "source": [
    "# compute angles wrt reflector normal\n",
    "param = [\"vel\"=>\"vp\", \"wav\"=>\"wav\", \n",
    "    \"dip_flag\"=>\"y\",\"dipx\"=>\"dipx\",\"dipy\"=>\"dipy\",\n",
    "    \"sz\"=>10,\"fmin\"=>20., \"fmax\"=>30.,\n",
    "    \"nhx\"=>827, \"ohx\"=>-3304, \"dhx\"=>8,\n",
    "    \"nhy\"=>1, \"ohy\"=>0, \"dhy\"=>8,\n",
    "    \"omp\"=>8,\"verbose\"=>\"y\"];\n",
    "param[\"sx\"] = [5100.0:100.0:5100.0];\n",
    "param[\"sy\"] = [5100.0:100.0:5100.0]*0;\n",
    "ComputeAngles(\"angx\",\"angy\",param);"
   ]
  },
  {
   "cell_type": "code",
   "execution_count": null,
   "metadata": {
    "collapsed": true
   },
   "outputs": [],
   "source": [
    "#argv = [];\n",
    "argv = [\"0\", \"angx=angx_shot_5100_0\", \"angy=angy_shot_5100_0\", \n",
    "        \"vel=vp\", \"dipx=dipx\", \"dipy=dipy\", \"wav=wav\", \n",
    "        \"sx=5100.0\", \"sy=0.0\", \"sz=10\", \n",
    "        \"ohx=-3304\", \"dhx=8\", \"nhx=827\",\"ohy=0\", \"dhy=8\", \"nhy=1\",\n",
    "        \"fmin=20.0\", \"fmax=30.0\", \"pade_flag=n\", \"dip_flag=y\", \"verbose=y\"];\n",
    "a = ccall((:main, \"/Users/astanton/Seismic_SAIG/src/API/c/compute_angles.so\"), Int32, (Int32, Ptr{Ptr{Uint8}}), length(argv), argv)"
   ]
  },
  {
   "cell_type": "code",
   "execution_count": null,
   "metadata": {
    "collapsed": true
   },
   "outputs": [],
   "source": [
    "param = [\"adj\"=>\"y\",\n",
    "    \"vel\"=>\"../prep/vp\", \"wav\"=>\"../prep/wav\",\n",
    "    \"angx\"=>\"../prep/angx\",\"angy\"=>\"../prep/angy\",\n",
    "    \"pade_flag\"=>\"y\",\n",
    "    \"sz\"=>10, \"gz\"=>550,\n",
    "    \"fmin\"=>1., \"fmax\"=>50.,\n",
    "    \"padt\"=>2, \"padx\"=>1,\n",
    "    \"nangx\"=>71, \"oangx\"=>-70, \"dangx\"=>2,\n",
    "    \"nangy\"=>1, \"oangy\"=>0, \"dangy\"=>2,\n",
    "    \"nhx\"=>827, \"ohx\"=>-3304, \"dhx\"=>8,\n",
    "    \"nhy\"=>1, \"ohy\"=>0, \"dhy\"=>8,\n",
    "    \"omp\"=>8,\"verbose\"=>\"y\"];\n",
    "param[\"sx\"] = [5100.0:100.0:5100.0];\n",
    "param[\"sy\"] = [5100.0:100.0:5100.0]*0;\n",
    "ShotProfileWEM(\"../prep/uz_1shot\",\"mpp\",param);"
   ]
  },
  {
   "cell_type": "code",
   "execution_count": null,
   "metadata": {
    "collapsed": true
   },
   "outputs": [],
   "source": []
  }
 ],
 "metadata": {
  "kernelspec": {
   "display_name": "Julia 0.4.5",
   "language": "julia",
   "name": "julia-0.4"
  },
  "language_info": {
   "file_extension": ".jl",
   "mimetype": "application/julia",
   "name": "julia",
   "version": "0.4.5"
  }
 },
 "nbformat": 4,
 "nbformat_minor": 0
}
