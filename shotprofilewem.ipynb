{
 "cells": [
  {
   "cell_type": "code",
   "execution_count": 1,
   "metadata": {
    "collapsed": true
   },
   "outputs": [],
   "source": [
    "using Seismic, PyPlot"
   ]
  },
  {
   "cell_type": "code",
   "execution_count": null,
   "metadata": {
    "collapsed": true
   },
   "outputs": [],
   "source": [
    "# read velocity files\n",
    "SegyToSeis(\"/Users/astanton/Downloads/vp_mig.rsf\",\"vp\",\"rsf\");\n",
    "vp,h_v = SeisRead(\"vp\");\n",
    "vp = reshape(vp,nz,nmx,nmy);\n",
    "\n",
    "SegyToSeis(\"/Users/astanton/Downloads/vs_mig.rsf\",\"vs\",\"rsf\");\n",
    "vs,h_v = SeisRead(\"vs\");\n",
    "vs = reshape(vs,nz,nmx,nmy);\n",
    "\n",
    "# set up headers in velocity files\n",
    "h_v = Array(Header,nmx*nmy);\n",
    "for imx = 1:nmx\n",
    "for imy = 1:nmy\n",
    "  h_v[(imx-1)*nmy + imy] = Seismic.InitSeisHeader();\n",
    "  h_v[(imx-1)*nmy + imy].tracenum = (imx-1)*nmy + imy;\n",
    "  h_v[(imx-1)*nmy + imy].n1 = nz;\n",
    "  h_v[(imx-1)*nmy + imy].d1 = dz;\n",
    "  h_v[(imx-1)*nmy + imy].mx = (imx-1)*dmx + omx;\n",
    "  h_v[(imx-1)*nmy + imy].my = (imy-1)*dmy + omy;\n",
    "  h_v[(imx-1)*nmy + imy].imx = imx-1;\n",
    "  h_v[(imx-1)*nmy + imy].imy = imy-1;\n",
    "end\n",
    "end\n",
    "SeisWrite(\"vp\",vp[1:nz,:],h_v);\n",
    "\n",
    "SeisWrite(\"vs\",vs[1:nz,:],h_v);"
   ]
  },
  {
   "cell_type": "code",
   "execution_count": null,
   "metadata": {
    "collapsed": true
   },
   "outputs": [],
   "source": [
    "# read velocity files\n",
    "SegyToSeis(\"/Users/astanton/Downloads/vp_mig_raw.rsf\",\"vp_raw\",\"rsf\");\n",
    "vp_raw,h_v = SeisRead(\"vp_raw\");\n",
    "vp_raw = reshape(vp_raw,nz,nmx,nmy);\n",
    "# set up headers in velocity files\n",
    "h_v = Array(Header,nmx*nmy);\n",
    "for imx = 1:nmx\n",
    "for imy = 1:nmy\n",
    "  h_v[(imx-1)*nmy + imy] = Seismic.InitSeisHeader();\n",
    "  h_v[(imx-1)*nmy + imy].tracenum = (imx-1)*nmy + imy;\n",
    "  h_v[(imx-1)*nmy + imy].n1 = nz;\n",
    "  h_v[(imx-1)*nmy + imy].d1 = dz;\n",
    "  h_v[(imx-1)*nmy + imy].mx = (imx-1)*dmx + omx;\n",
    "  h_v[(imx-1)*nmy + imy].my = (imy-1)*dmy + omy;\n",
    "  h_v[(imx-1)*nmy + imy].imx = imx-1;\n",
    "  h_v[(imx-1)*nmy + imy].imy = imy-1;\n",
    "end\n",
    "end\n",
    "SeisWrite(\"vp_raw\",vp_raw[1:nz,:],h_v);"
   ]
  },
  {
   "cell_type": "code",
   "execution_count": null,
   "metadata": {
    "collapsed": true
   },
   "outputs": [],
   "source": [
    "# read a data files\n",
    "SegyToSeis(\"/Users/astanton/Downloads/dz.rsf\",\"uz\",\"rsf\");\n",
    "uz,h_d = SeisRead(\"uz\");\n",
    "# set up headers in data files\n",
    "h_d = Array(Header,nsx*nsy*nmx*nmy);\n",
    "for isx = 1:nsx\n",
    "for isy = 1:nsy\n",
    "for imx = 1:nmx\n",
    "for imy = 1:nmy\n",
    "  h_d[(isx-1)*nsy*nmx*nmy + (isy-1)*nmx*nmy + (imx-1)*nmy + imy] = Seismic.InitSeisHeader();\n",
    "  h_d[(isx-1)*nsy*nmx*nmy + (isy-1)*nmx*nmy + (imx-1)*nmy + imy].tracenum = (isx-1)*nsy*nmx*nmy + (isy-1)*nmx*nmy + (imx-1)*nmy + imy;\n",
    "  h_d[(isx-1)*nsy*nmx*nmy + (isy-1)*nmx*nmy + (imx-1)*nmy + imy].n1 = nt;\n",
    "  h_d[(isx-1)*nsy*nmx*nmy + (isy-1)*nmx*nmy + (imx-1)*nmy + imy].d1 = dt;\n",
    "  h_d[(isx-1)*nsy*nmx*nmy + (isy-1)*nmx*nmy + (imx-1)*nmy + imy].gx = (imx-1)*dmx + omx;\n",
    "  h_d[(isx-1)*nsy*nmx*nmy + (isy-1)*nmx*nmy + (imx-1)*nmy + imy].gy = (imy-1)*dmy + omy;\n",
    "  h_d[(isx-1)*nsy*nmx*nmy + (isy-1)*nmx*nmy + (imx-1)*nmy + imy].igx = imx-1;\n",
    "  h_d[(isx-1)*nsy*nmx*nmy + (isy-1)*nmx*nmy + (imx-1)*nmy + imy].igy = imy-1;\n",
    "  h_d[(isx-1)*nsy*nmx*nmy + (isy-1)*nmx*nmy + (imx-1)*nmy + imy].sx = (isx-1)*dsx + osx;\n",
    "  h_d[(isx-1)*nsy*nmx*nmy + (isy-1)*nmx*nmy + (imx-1)*nmy + imy].sy = (isy-1)*dsy + osy;\n",
    "end\n",
    "end\n",
    "end\n",
    "end\n",
    "SeisWrite(\"uz_raw1\",uz[1:nt,:],h_d);\n",
    "SegyToSeis(\"/Users/astanton/Downloads/wav_resample.rsf\",\"wav\",\"rsf\");\n",
    "w,h_w = SeisRead(\"wav\");\n",
    "# set up headers in wavelet file\n",
    "h_w = Array(Header,1);\n",
    "h_w[1] = Seismic.InitSeisHeader();h_w[1].tracenum = 1;\n",
    "h_w[1].n1 = nt;\n",
    "h_w[1].d1 = dt;\n",
    "SeisWrite(\"wav\",w[:],h_w);"
   ]
  },
  {
   "cell_type": "code",
   "execution_count": null,
   "metadata": {
    "collapsed": true
   },
   "outputs": [],
   "source": [
    "# update geometry for d and bin to isx,isy,ihx,ihy\n",
    "param = [\"dsx\"=> dsx, \"dsy\"=> dsy, \"osx\"=> osx, \"osy\"=> osy,\n",
    "         \"dhx\"=>  dhx, \"dhy\"=>  dhy, \"ohx\"=> ohx, \"ohy\"=> ohy, \n",
    "         \"gamma\"=> 1, \"ang\"=> 90]\n",
    "SeisGeometry(\"uz_raw1\",param);\n",
    "SeisSort(\"uz_raw1\",\"uz_raw2\",[\"isx\",\"ihx\"],false);\n",
    "SeisWindow(\"uz_raw2\",\"uz_raw3\",[\"isx\" \"hx\" \"gx\" \"gy\"],[0 -3304.0 0.0 0.0],[68 3304.0 6992.0 0.0])\n",
    "\n",
    "# add binning parameters to param\n",
    "param[\"min_isx\"] = 0\n",
    "param[\"max_isx\"] = 68\n",
    "param[\"min_isy\"] = 0\n",
    "param[\"max_isy\"] = 0\n",
    "param[\"min_ihx\"] = 0\n",
    "param[\"max_ihx\"] = 826\n",
    "param[\"min_ihy\"] = 0\n",
    "param[\"max_ihy\"] = 0\n",
    "param[\"style\"] = \"sxsyhxhy\"\n",
    "SeisBin(\"uz_raw3\",\"uz_raw4\",param)\n",
    "SeisWindow(\"uz_raw4\",\"uz\",[\"gx\" \"gy\"],[0 0],[6992.0 0])\n",
    "SeisHeaderInfo(\"uz\");"
   ]
  },
  {
   "cell_type": "code",
   "execution_count": null,
   "metadata": {
    "collapsed": true
   },
   "outputs": [],
   "source": [
    "SeisWindow(\"uz\",\"uz_1shot\",[\"isx\"],[50],[50]);\n",
    "uz,h = SeisRead(\"uz_1shot\");\n",
    "plotpar = [\"style\"=>\"color\",\n",
    "    \"vmin\"=>-1e-2,\"vmax\"=>1e-2,\"aspect\"=>\"auto\",\n",
    "    \"xlabel\"=>\"Offset\",\"xunits\"=>\"(m)\",\"ox\"=>h[1].h,\"dx\"=>8.,\n",
    "    \"ylabel\"=>\"Time\",\"yunits\"=>\"(s)\",\"oy\"=>0.,\"dy\"=>0.002,\n",
    "    \"wbox\"=>8,\"hbox\"=>8,\"cmap\"=>\"Greys\"];\n",
    "Seismic.subplot(121)\n",
    "SeisPlot(uz,plotpar);"
   ]
  },
  {
   "cell_type": "code",
   "execution_count": null,
   "metadata": {
    "collapsed": true
   },
   "outputs": [],
   "source": [
    "fmax=60;\n",
    "dk = 1/8./size(uz,2)\n",
    "kmin = -dk*size(uz,2)/2\n",
    "kmax =  dk*size(uz,2)/2\n",
    "df = 1/0.002/size(uz,1)\n",
    "FMAX = df*size(uz,1)/2 \n",
    "nf = convert(Int32,floor((size(uz,1)/2)*fmax/FMAX))\n",
    "Uz = abs(fftshift(fft(uz)))\n",
    "Uz = Uz[end/2:end/2+nf,:]\n",
    "Seismic.subplot(121)\n",
    "Seismic.imshow(Uz,vmin=0,vmax=10,extent=[kmin,kmax,fmax,0],aspect=\"auto\")"
   ]
  },
  {
   "cell_type": "code",
   "execution_count": null,
   "metadata": {
    "collapsed": true
   },
   "outputs": [],
   "source": [
    "vp,h = SeisRead(\"vp\");\n",
    "plotpar_vel = [\"style\"=>\"color\",\n",
    "    \"vmin\"=>500,\"vmax\"=>3000,\n",
    "    \"aspect\"=>\"auto\",\n",
    "    \"xlabel\"=>\"X\",\"xunits\"=>\"(m)\",\"ox\"=>0.,\"dx\"=>8.,\n",
    "    \"ylabel\"=>\"Z\",\"yunits\"=>\"(m)\",\"oy\"=>0.,\"dy\"=>dz,\n",
    "    \"wbox\"=>8,\"hbox\"=>8,\n",
    "    \"cmap\"=>\"jet\"];\n",
    "Seismic.subplot(211)\n",
    "SeisPlot(vp,plotpar_vel);"
   ]
  },
  {
   "cell_type": "code",
   "execution_count": null,
   "metadata": {
    "collapsed": true
   },
   "outputs": [],
   "source": [
    "vp_raw,h = SeisRead(\"vp_raw\");\n",
    "Seismic.subplot(211)\n",
    "SeisPlot(vp_raw,plotpar_vel);"
   ]
  },
  {
   "cell_type": "code",
   "execution_count": null,
   "metadata": {
    "collapsed": true
   },
   "outputs": [],
   "source": [
    "# compute reflector normals \n",
    "vp_raw,h = SeisRead(\"vp_raw\");\n",
    "coh,pp,res = SeisPWD(vp_raw,[\"w1\"=>30,\"w2\"=>30,\"dx\"=>8,\"dz\"=>4]);\n",
    "SeisWrite(\"dipx\",pp,h);\n",
    "SeisWrite(\"dipy\",pp*0,h);"
   ]
  },
  {
   "cell_type": "code",
   "execution_count": null,
   "metadata": {
    "collapsed": true
   },
   "outputs": [],
   "source": [
    "# plot reflector normals over velocity model\n",
    "plotpar = [\"style\"=>\"color\",\n",
    "    \"vmin\"=>1500,\"vmax\"=>3000,\"aspect\"=>1,\n",
    "    \"xlabel\"=>\"X\",\"xunits\"=>\"(m)\",\"ox\"=>0.,\"dx\"=>8.,\n",
    "    \"ylabel\"=>\"Z\",\"yunits\"=>\"(m)\",\"oy\"=>0.,\"dy\"=>4.,\n",
    "    \"cmap\"=>\"jet\"];\n",
    "SeisPlot(vp_raw,plotpar); \n",
    "Seismic.hold(\"true\");\n",
    "L = 1;\n",
    "pp_x = cos((pp[50:50:end,50:50:end]-90)*pi/180)*L;\n",
    "pp_y = sin((pp[50:50:end,50:50:end]-90)*pi/180)*L;\n",
    "Seismic.quiver([49:50:size(pp,2)-1]*8,[49:50:size(pp,1)-1]*h[1].d1,\n",
    "pp_x, pp_y,angles=\"xy\",scale=25,color=\"black\");"
   ]
  },
  {
   "cell_type": "code",
   "execution_count": null,
   "metadata": {
    "collapsed": true
   },
   "outputs": [],
   "source": [
    "\n",
    "# compute angles wrt reflector normal\n",
    "param = [\"vel\"=>\"vp\", \"wav\"=>\"wav\", \n",
    "    \"dip_flag\"=>\"y\",\"dipx\"=>\"dipx\",\"dipy\"=>\"dipy\",\n",
    "    \"sz\"=>10,\"fmin\"=>20., \"fmax\"=>30.,\n",
    "    \"nhx\"=>827, \"ohx\"=>-3304, \"dhx\"=>8,\n",
    "    \"nhy\"=>1, \"ohy\"=>0, \"dhy\"=>8,\n",
    "    \"omp\"=>8,\"verbose\"=>\"y\"];\n",
    "param[\"sx\"] = [5100.0:100.0:5100.0];\n",
    "param[\"sy\"] = [5100.0:100.0:5100.0]*0;\n",
    "ComputeAngles(\"angx\",\"angy\",param);"
   ]
  },
  {
   "cell_type": "code",
   "execution_count": null,
   "metadata": {
    "collapsed": true
   },
   "outputs": [],
   "source": [
    "SeisWindow(\"angx\",\"angx_1shot\",[\"sx\"],[5100],[5100]);\n",
    "SeisWindow(\"angy\",\"angy_1shot\",[\"sx\"],[5100],[5100]);\n",
    "angx,h = SeisRead(\"angx_1shot\");\n",
    "angy,h = SeisRead(\"angy_1shot\");\n",
    "plotpar[\"vmin\"]=-70; plotpar[\"vmax\"]=70;plotpar[\"ox\"]=h[1].mx\n",
    "SeisPlot(angx,plotpar);"
   ]
  },
  {
   "cell_type": "code",
   "execution_count": null,
   "metadata": {
    "collapsed": true
   },
   "outputs": [],
   "source": [
    "#argv = [];\n",
    "argv = [\"0\", \"angx=angx_shot_5100_0\", \"angy=angy_shot_5100_0\", \n",
    "        \"vel=vp\", \"dipx=dipx\", \"dipy=dipy\", \"wav=wav\", \n",
    "        \"sx=5100.0\", \"sy=0.0\", \"sz=10\", \n",
    "        \"ohx=-3304\", \"dhx=8\", \"nhx=827\",\"ohy=0\", \"dhy=8\", \"nhy=1\",\n",
    "        \"fmin=20.0\", \"fmax=30.0\", \"pade_flag=n\", \"dip_flag=y\", \"verbose=y\"];\n",
    "a = ccall((:main, \"/Users/astanton/Seismic_SAIG/src/API/c/compute_angles.so\"), Int32, (Int32, Ptr{Ptr{Uint8}}), length(argv), argv)"
   ]
  }
 ],
 "metadata": {
  "kernelspec": {
   "display_name": "Julia 0.4.5",
   "language": "julia",
   "name": "julia-0.4"
  },
  "language_info": {
   "file_extension": ".jl",
   "mimetype": "application/julia",
   "name": "julia",
   "version": "0.4.5"
  }
 },
 "nbformat": 4,
 "nbformat_minor": 0
}
